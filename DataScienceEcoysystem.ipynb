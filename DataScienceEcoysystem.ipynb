{
 "cells": [
  {
   "cell_type": "markdown",
   "id": "c24b4ddc-c86d-4883-94a2-826688e28d2a",
   "metadata": {},
   "source": [
    "# Data Science Tools and Ecosystem"
   ]
  },
  {
   "cell_type": "markdown",
   "id": "2db7c27d-9333-4a9a-be31-41e42a757319",
   "metadata": {},
   "source": [
    "This notebook will provide a brief summarization of Data Science Tools and Ecosystems. "
   ]
  },
  {
   "cell_type": "markdown",
   "id": "87ee13ba-8817-4ea4-beb8-687a9c528c24",
   "metadata": {},
   "source": [
    "**Objectives:**\n",
    "- List of popular languages for Data Science\n",
    "- List of common libraries for Data Science\n",
    "- Examples of common arithmetic equations\n",
    "- List of open source data tools "
   ]
  },
  {
   "cell_type": "markdown",
   "id": "455e2134-94f0-49bc-8f39-e1000030e1d9",
   "metadata": {},
   "source": [
    "Some common languages used amongst Data Scientists are:\n",
    "1. Python\n",
    "2. R\n",
    "3. Java\n",
    "4. Scala"
   ]
  },
  {
   "cell_type": "markdown",
   "id": "67b28213-cf86-4a04-928c-b681f6ffb740",
   "metadata": {},
   "source": [
    "Frequently used libraries used by Data Scientists include:\n",
    "1. Matplotlib\n",
    "2. NumPy\n",
    "3. pandas\n",
    "4. TensorFlow \n",
    "5. Plotly "
   ]
  },
  {
   "cell_type": "markdown",
   "id": "8f46423c-89e0-45c5-80a8-bf7f592f5a43",
   "metadata": {},
   "source": [
    "| Data Science Tools |\n",
    "| ------------------ | \n",
    "| Apache Hadoop | \n",
    "| Apache Spark | \n",
    "| RStudio | "
   ]
  },
  {
   "cell_type": "markdown",
   "id": "5f96f0ba-953f-4dce-8948-ad1c0c814cae",
   "metadata": {},
   "source": [
    "### Below are a few esamples of evaluating arithmetic expressions in Python"
   ]
  },
  {
   "cell_type": "code",
   "execution_count": 12,
   "id": "f6cb4400-18a7-4fca-aaac-94dd9f47e27e",
   "metadata": {},
   "outputs": [
    {
     "data": {
      "text/plain": [
       "17"
      ]
     },
     "execution_count": 12,
     "metadata": {},
     "output_type": "execute_result"
    }
   ],
   "source": [
    "# Here is a simple arithmetic expression multiplying and adding integers\n",
    "(3*4)+5"
   ]
  },
  {
   "cell_type": "code",
   "execution_count": 14,
   "id": "622f837f-d0b3-40b6-bc48-722a2d7ee283",
   "metadata": {},
   "outputs": [
    {
     "data": {
      "text/plain": [
       "3.3333333333333335"
      ]
     },
     "execution_count": 14,
     "metadata": {},
     "output_type": "execute_result"
    }
   ],
   "source": [
    "# This code cell will convert 200 minutes into hours by dividing 200 by 60\n",
    "200/60"
   ]
  },
  {
   "cell_type": "markdown",
   "id": "503d5858-b2d5-4332-8241-6620acc682ae",
   "metadata": {},
   "source": [
    "## Author\n",
    "Carlos Lozada"
   ]
  },
  {
   "cell_type": "code",
   "execution_count": null,
   "id": "5e56a794-f76c-4932-9fb8-a948cefa2404",
   "metadata": {},
   "outputs": [],
   "source": []
  }
 ],
 "metadata": {
  "kernelspec": {
   "display_name": "Python 3 (ipykernel)",
   "language": "python",
   "name": "python3"
  },
  "language_info": {
   "codemirror_mode": {
    "name": "ipython",
    "version": 3
   },
   "file_extension": ".py",
   "mimetype": "text/x-python",
   "name": "python",
   "nbconvert_exporter": "python",
   "pygments_lexer": "ipython3",
   "version": "3.12.4"
  }
 },
 "nbformat": 4,
 "nbformat_minor": 5
}
